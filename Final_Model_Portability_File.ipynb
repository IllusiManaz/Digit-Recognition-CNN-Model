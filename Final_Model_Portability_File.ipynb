{
  "nbformat": 4,
  "nbformat_minor": 0,
  "metadata": {
    "colab": {
      "provenance": []
    },
    "kernelspec": {
      "name": "python3",
      "display_name": "Python 3"
    },
    "language_info": {
      "name": "python"
    }
  },
  "cells": [
    {
      "cell_type": "code",
      "execution_count": 5,
      "metadata": {
        "id": "h6TCXK9-IioL",
        "colab": {
          "base_uri": "https://localhost:8080/",
          "height": 519
        },
        "outputId": "0e2d6dfa-c24a-4939-8778-928d3dc9a85d"
      },
      "outputs": [
        {
          "output_type": "stream",
          "name": "stderr",
          "text": [
            "WARNING:absl:Compiled the loaded model, but the compiled metrics have yet to be built. `model.compile_metrics` will be empty until you train or evaluate the model.\n"
          ]
        },
        {
          "output_type": "stream",
          "name": "stdout",
          "text": [
            "(280, 260, 1)\n",
            "(28, 28, 1)\n",
            "7\n"
          ]
        },
        {
          "output_type": "display_data",
          "data": {
            "text/plain": [
              "<Figure size 640x480 with 1 Axes>"
            ],
            "image/png": "[encoded data removed]"
          },
          "metadata": {}
        }
      ],
      "source": [
        "import tensorflow as tf\n",
        "cnn=tf.keras.models.load_model('lenet5.h5')\n",
        "\n",
        "from urllib.request import urlopen\n",
        "# image=urlopen('https://thumbs.dreamstime.com/z/number-two-wallpaper-black-white-photo-202973109.jpg')\n",
        "# image=urlopen(\"https://thumbs.dreamstime.com/b/single-number-fire-flames-alphabet-black-background-238003012.jpg\")\n",
        "image=urlopen(\"https://www.shutterstock.com/image-photo/single-number-fire-flames-alphabet-260nw-2099710750.jpg\")\n",
        "image=image.read()\n",
        "\n",
        "import matplotlib.pyplot as plt\n",
        "img=tf.image.decode_jpeg(image,1)\n",
        "print(img.shape)\n",
        "img=tf.image.central_crop(img,0.7)\n",
        "img=tf.image.resize(img,(28,28))\n",
        "print(img.shape)\n",
        "plt.imshow(tf.squeeze(img))\n",
        "output=cnn(tf.expand_dims(img,0))\n",
        "tf.print(tf.argmax(output,1)[-1])"
      ]
    },
    {
      "cell_type": "code",
      "source": [],
      "metadata": {
        "id": "tx281Sx8JJ0f"
      },
      "execution_count": null,
      "outputs": []
    }
  ]
}